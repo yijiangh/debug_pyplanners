{
 "cells": [
  {
   "cell_type": "code",
   "execution_count": 5,
   "id": "lyric-lounge",
   "metadata": {},
   "outputs": [
    {
     "name": "stdout",
     "output_type": "stream",
     "text": [
      "The autoreload extension is already loaded. To reload it, use:\n",
      "  %reload_ext autoreload\n"
     ]
    }
   ],
   "source": [
    "# https://ipython.org/ipython-doc/3/config/extensions/``autoreload.html\n",
    "%load_ext autoreload\n",
    "%autoreload 2"
   ]
  },
  {
   "cell_type": "code",
   "execution_count": 6,
   "id": "4212707b-ea03-45d3-835f-f4782ec4f309",
   "metadata": {},
   "outputs": [
    {
     "name": "stdout",
     "output_type": "stream",
     "text": [
      "C:\\Users\\harry\\Documents\\code_ws\\pb_ws\\debug_pyplanners\\itj\n"
     ]
    }
   ],
   "source": [
    "import os, sys\n",
    "ipynb_path = os.path.dirname(os.path.realpath(\"__file__\"))\n",
    "print(ipynb_path)\n",
    "\n",
    "import sys\n",
    "sys.path.append(os.path.join(ipynb_path, \"..\"))"
   ]
  },
  {
   "cell_type": "code",
   "execution_count": 9,
   "id": "390d974e-1961-4551-a0ee-5a7cff24f2ba",
   "metadata": {},
   "outputs": [],
   "source": [
    "from termcolor import cprint\n",
    "from load_path import *\n",
    "from run import get_itj_pddl_problem_from_json"
   ]
  },
  {
   "cell_type": "code",
   "execution_count": 54,
   "id": "3f64eeba-a3d4-47ab-96ea-c48f6f2476ea",
   "metadata": {},
   "outputs": [
    {
     "name": "stdout",
     "output_type": "stream",
     "text": [
      "\u001b[32mSymbolic process json parsed from C:\\Users\\harry\\Documents\\code_ws\\pb_ws\\debug_pyplanners\\itj\\nine_pieces_process_symbolic.json\u001b[0m\n",
      "\u001b[33mUsing beam sequence ordering: ['b0', 'b1', 'b2', 'b3', 'b5', 'b6', 'b7', 'b8', 'b4']\u001b[0m\n"
     ]
    }
   ],
   "source": [
    "debug_problem_name = \"nine_pieces_process_symbolic.json\"\n",
    "input_problem, _, _ = get_itj_pddl_problem_from_json(debug_problem_name, use_partial_order=True, debug=True, \n",
    "                                                    reset_to_home=0,\n",
    "                                                    use_fluents=1)"
   ]
  },
  {
   "cell_type": "code",
   "execution_count": 21,
   "id": "8fe6fb1f-5afd-42cb-97ec-1a12a569c5b7",
   "metadata": {},
   "outputs": [],
   "source": [
    "from pddlstream.algorithms.algorithm import parse_problem\n",
    "from pddlstream.algorithms.constraints import PlanConstraints\n",
    "from pddlstream.utils import INF, Verbose, str_from_object, elapsed_time\n",
    "\n",
    "constraints = PlanConstraints()\n",
    "unit_costs = True\n",
    "max_iterations=INF\n",
    "max_time=INF\n",
    "max_memory=INF"
   ]
  },
  {
   "cell_type": "code",
   "execution_count": 22,
   "id": "ed9fff13-9412-43a9-a0af-71aee0fc422d",
   "metadata": {
    "collapsed": true,
    "jupyter": {
     "outputs_hidden": true
    },
    "tags": []
   },
   "outputs": [
    {
     "name": "stdout",
     "output_type": "stream",
     "text": [
      "Iteration: 1 | Complexity: 0 | Calls: 0 | Evaluations: 161 | Solved: False | Cost: inf | Search Time: 0.001 | Sample Time: 0.000 | Time: 0.001\n",
      "Initial: State{Atom atrack(v1), Atom atrack(v10), Atom atrack(v11), Atom atrack(v12), Atom atrack(v13), Atom atrack(v14), Atom atrack(v15), Atom atrack(v16), Atom atrack(v2), Atom atrack(v3), Atom atrack(v4), Atom atrack(v5), Atom atrack(v6), Atom atrack(v7), Atom atrack(v8), Atom atrack(v9), Atom notoolatjoint(v1, v3), Atom notoolatjoint(v1, v4), Atom notoolatjoint(v1, v6), Atom notoolatjoint(v2, v3), Atom notoolatjoint(v2, v4), Atom notoolatjoint(v2, v8), Atom notoolatjoint(v3, v1), Atom notoolatjoint(v3, v2), Atom notoolatjoint(v4, v1), Atom notoolatjoint(v4, v2), Atom notoolatjoint(v5, v6), Atom notoolatjoint(v5, v9), Atom notoolatjoint(v6, v1), Atom notoolatjoint(v6, v5), Atom notoolatjoint(v7, v8), Atom notoolatjoint(v7, v9), Atom notoolatjoint(v8, v2), Atom notoolatjoint(v8, v7), Atom notoolatjoint(v9, v5), Atom notoolatjoint(v9, v7), Atom robottoolchangerempty(), Atom toolnotoccupiedonjoint(v10), Atom toolnotoccupiedonjoint(v11), Atom toolnotoccupiedonjoint(v12), Atom toolnotoccupiedonjoint(v13)}\n",
      "Goal: PartialState{Atom assembled(v1), Atom assembled(v2), Atom assembled(v3), Atom assembled(v4), Atom assembled(v5), Atom assembled(v6), Atom assembled(v7), Atom assembled(v8), Atom assembled(v9)}\n",
      "Actions: 134 | Axioms: 143\n",
      "Search: eager | Evaluator: greedy | Heuristic: ff | Successors: all\n",
      "\n",
      "-------------------------------------------------------------------------------------\n",
      "\n",
      "Iterations: 0 | State Space: 1 | Expanded: 0 | Generations: 0 | Heuristic: 20000 | Time: 0.006\n",
      "Iterations: 2 | State Space: 11 | Expanded: 8 | Generations: 8 | Heuristic: 19000 | Time: 0.052\n",
      "Iterations: 8 | State Space: 19 | Expanded: 18 | Generations: 18 | Heuristic: 18000 | Time: 0.109\n",
      "Iterations: 9 | State Space: 26 | Expanded: 19 | Generations: 19 | Heuristic: 17000 | Time: 0.120\n",
      "Iterations: 10 | State Space: 27 | Expanded: 26 | Generations: 26 | Heuristic: 16000 | Time: 0.156\n",
      "Iterations: 11 | State Space: 33 | Expanded: 27 | Generations: 27 | Heuristic: 15000 | Time: 0.166\n",
      "Iterations: 226 | State Space: 185 | Expanded: 185 | Generations: 185 | Heuristic: 15000 | Time: 1.171\n",
      "Iterations: 480 | State Space: 351 | Expanded: 351 | Generations: 351 | Heuristic: 15000 | Time: 2.178\n",
      "Iterations: 758 | State Space: 506 | Expanded: 506 | Generations: 506 | Heuristic: 15000 | Time: 3.179\n",
      "Iterations: 1048 | State Space: 656 | Expanded: 656 | Generations: 656 | Heuristic: 15000 | Time: 4.180\n",
      "Iterations: 1299 | State Space: 829 | Expanded: 829 | Generations: 829 | Heuristic: 15000 | Time: 5.199\n",
      "Iterations: 1584 | State Space: 986 | Expanded: 986 | Generations: 986 | Heuristic: 15000 | Time: 6.202\n",
      "Iterations: 1880 | State Space: 1131 | Expanded: 1131 | Generations: 1131 | Heuristic: 15000 | Time: 7.237\n",
      "Iterations: 2134 | State Space: 1309 | Expanded: 1309 | Generations: 1309 | Heuristic: 15000 | Time: 8.263\n",
      "Iterations: 2494 | State Space: 1477 | Expanded: 1477 | Generations: 1477 | Heuristic: 15000 | Time: 9.267\n",
      "Iterations: 2749 | State Space: 1649 | Expanded: 1649 | Generations: 1649 | Heuristic: 15000 | Time: 10.284\n",
      "Iterations: 3053 | State Space: 1809 | Expanded: 1809 | Generations: 1809 | Heuristic: 15000 | Time: 11.310\n",
      "Iterations: 3358 | State Space: 1984 | Expanded: 1984 | Generations: 1984 | Heuristic: 15000 | Time: 12.316\n",
      "Iterations: 3628 | State Space: 2155 | Expanded: 2155 | Generations: 2155 | Heuristic: 15000 | Time: 13.327\n",
      "Iterations: 3824 | State Space: 2254 | Expanded: 2253 | Generations: 2253 | Heuristic: 14000 | Time: 13.933\n",
      "Iterations: 3825 | State Space: 2259 | Expanded: 2254 | Generations: 2254 | Heuristic: 13000 | Time: 13.941\n",
      "Iterations: 4053 | State Space: 2432 | Expanded: 2432 | Generations: 2432 | Heuristic: 13000 | Time: 14.941\n",
      "Iterations: 4377 | State Space: 2611 | Expanded: 2611 | Generations: 2611 | Heuristic: 13000 | Time: 15.941\n",
      "Iterations: 4681 | State Space: 2783 | Expanded: 2783 | Generations: 2783 | Heuristic: 13000 | Time: 16.942\n",
      "Iterations: 5008 | State Space: 2964 | Expanded: 2964 | Generations: 2964 | Heuristic: 13000 | Time: 17.945\n",
      "Iterations: 5275 | State Space: 3147 | Expanded: 3147 | Generations: 3147 | Heuristic: 13000 | Time: 18.964\n",
      "Iterations: 5566 | State Space: 3297 | Expanded: 3297 | Generations: 3297 | Heuristic: 13000 | Time: 19.968\n",
      "Iterations: 5864 | State Space: 3475 | Expanded: 3475 | Generations: 3475 | Heuristic: 13000 | Time: 20.982\n",
      "Iterations: 6159 | State Space: 3658 | Expanded: 3658 | Generations: 3658 | Heuristic: 13000 | Time: 21.994\n",
      "Iterations: 6470 | State Space: 3839 | Expanded: 3839 | Generations: 3839 | Heuristic: 13000 | Time: 22.999\n",
      "Iterations: 6786 | State Space: 4017 | Expanded: 4017 | Generations: 4017 | Heuristic: 13000 | Time: 24.000\n",
      "Iterations: 6930 | State Space: 4097 | Expanded: 4096 | Generations: 4096 | Heuristic: 12000 | Time: 24.450\n",
      "Iterations: 6931 | State Space: 4101 | Expanded: 4097 | Generations: 4097 | Heuristic: 11000 | Time: 24.458\n",
      "Iterations: 6932 | State Space: 4102 | Expanded: 4101 | Generations: 4101 | Heuristic: 10000 | Time: 24.477\n",
      "Iterations: 6933 | State Space: 4105 | Expanded: 4102 | Generations: 4102 | Heuristic: 9000 | Time: 24.484\n",
      "Iterations: 7150 | State Space: 4279 | Expanded: 4279 | Generations: 4279 | Heuristic: 9000 | Time: 25.490\n",
      "Iterations: 7449 | State Space: 4455 | Expanded: 4455 | Generations: 4455 | Heuristic: 9000 | Time: 26.505\n",
      "Iterations: 7469 | State Space: 4492 | Expanded: 4491 | Generations: 4491 | Heuristic: 8000 | Time: 26.691\n",
      "Iterations: 7470 | State Space: 4494 | Expanded: 4492 | Generations: 4492 | Heuristic: 7000 | Time: 26.698\n",
      "Iterations: 7477 | State Space: 4503 | Expanded: 4502 | Generations: 4502 | Heuristic: 6000 | Time: 26.749\n",
      "Iterations: 7478 | State Space: 4505 | Expanded: 4503 | Generations: 4503 | Heuristic: 5000 | Time: 26.756\n",
      "Iterations: 7719 | State Space: 4699 | Expanded: 4699 | Generations: 4699 | Heuristic: 5000 | Time: 27.756\n",
      "Iterations: 7950 | State Space: 4887 | Expanded: 4887 | Generations: 4887 | Heuristic: 5000 | Time: 28.767\n",
      "Iterations: 8297 | State Space: 5080 | Expanded: 5080 | Generations: 5080 | Heuristic: 5000 | Time: 29.798\n",
      "Iterations: 8529 | State Space: 5274 | Expanded: 5274 | Generations: 5274 | Heuristic: 5000 | Time: 30.800\n",
      "Iterations: 8878 | State Space: 5466 | Expanded: 5466 | Generations: 5466 | Heuristic: 5000 | Time: 31.819\n",
      "Iterations: 9145 | State Space: 5628 | Expanded: 5628 | Generations: 5628 | Heuristic: 5000 | Time: 32.836\n",
      "Iterations: 9376 | State Space: 5811 | Expanded: 5811 | Generations: 5811 | Heuristic: 5000 | Time: 33.857\n",
      "Iterations: 9655 | State Space: 5991 | Expanded: 5991 | Generations: 5991 | Heuristic: 5000 | Time: 34.862\n",
      "Iterations: 9954 | State Space: 6187 | Expanded: 6187 | Generations: 6187 | Heuristic: 5000 | Time: 35.876\n",
      "Iterations: 10259 | State Space: 6375 | Expanded: 6375 | Generations: 6375 | Heuristic: 5000 | Time: 36.877\n",
      "Iterations: 10555 | State Space: 6562 | Expanded: 6562 | Generations: 6562 | Heuristic: 5000 | Time: 37.893\n",
      "Iterations: 10591 | State Space: 6602 | Expanded: 6601 | Generations: 6601 | Heuristic: 4000 | Time: 38.102\n",
      "Iterations: 10593 | State Space: 6609 | Expanded: 6603 | Generations: 6603 | Heuristic: 2000 | Time: 38.118\n",
      "Iterations: 10594 | State Space: 6610 | Expanded: 6609 | Generations: 6609 | Heuristic: 1000 | Time: 38.144\n",
      "Iterations: 10845 | State Space: 6809 | Expanded: 6809 | Generations: 6809 | Heuristic: 1000 | Time: 39.156\n",
      "Iterations: 11205 | State Space: 6994 | Expanded: 6994 | Generations: 6994 | Heuristic: 1000 | Time: 40.156\n",
      "Iterations: 11574 | State Space: 7179 | Expanded: 7179 | Generations: 7179 | Heuristic: 1000 | Time: 41.166\n",
      "Iterations: 11884 | State Space: 7353 | Expanded: 7353 | Generations: 7353 | Heuristic: 1000 | Time: 42.179\n",
      "Iterations: 12263 | State Space: 7550 | Expanded: 7550 | Generations: 7550 | Heuristic: 1000 | Time: 43.201\n",
      "Iterations: 12639 | State Space: 7742 | Expanded: 7742 | Generations: 7742 | Heuristic: 1000 | Time: 44.201\n",
      "Iterations: 13005 | State Space: 7926 | Expanded: 7926 | Generations: 7926 | Heuristic: 1000 | Time: 45.213\n",
      "Iterations: 13291 | State Space: 8111 | Expanded: 8111 | Generations: 8111 | Heuristic: 1000 | Time: 46.217\n",
      "Iterations: 13672 | State Space: 8302 | Expanded: 8302 | Generations: 8302 | Heuristic: 1000 | Time: 47.225\n",
      "Iterations: 14040 | State Space: 8489 | Expanded: 8489 | Generations: 8489 | Heuristic: 1000 | Time: 48.226\n",
      "Iterations: 14435 | State Space: 8673 | Expanded: 8673 | Generations: 8673 | Heuristic: 1000 | Time: 49.235\n",
      "Iterations: 14765 | State Space: 8853 | Expanded: 8853 | Generations: 8853 | Heuristic: 1000 | Time: 50.239\n",
      "Iterations: 15098 | State Space: 9038 | Expanded: 9038 | Generations: 9038 | Heuristic: 1000 | Time: 51.241\n",
      "Iterations: 15415 | State Space: 9204 | Expanded: 9204 | Generations: 9204 | Heuristic: 1000 | Time: 52.247\n",
      "Iterations: 15836 | State Space: 9395 | Expanded: 9395 | Generations: 9395 | Heuristic: 1000 | Time: 53.247\n",
      "Iterations: 16203 | State Space: 9591 | Expanded: 9591 | Generations: 9591 | Heuristic: 1000 | Time: 54.268\n",
      "Iterations: 16360 | State Space: 9658 | Expanded: 9657 | Generations: 9657 | Heuristic: 0 | Time: 54.621\n",
      "Summary: {complexity: 0, cost: 51.000, evaluations: 161, iterations: 1, length: 51, run_time: 54.682, sample_time: 0.000, search_time: 54.682, solutions: 1, solved: True, timeout: False}\n",
      "----------\n",
      " 1) pick_tool_from_rack g2\n",
      " 2) pick_element_from_rack b0 g2\n",
      " 3) place_element_on_structure b0 @traj0 g2\n",
      " 4) pick_element_from_rack b1 g2\n",
      " 5) place_element_on_structure b1 @traj1 g2\n",
      " 6) place_tool_at_rack g2\n",
      " 7) pick_tool_from_rack c3\n",
      " 8) place_clamp_at_joint c3 b0 b2\n",
      " 9) pick_tool_from_rack c4\n",
      "10) place_clamp_at_joint c4 b1 b2\n",
      "11) pick_tool_from_rack g2\n",
      "12) pick_element_from_rack b2 g2\n",
      "13) place_element_on_structure b2 @traj2 g2\n",
      "14) place_tool_at_rack g2\n",
      "15) pick_clamp_from_joint c3 b0 b2\n",
      "16) place_clamp_at_joint c3 b0 b3\n",
      "17) pick_clamp_from_joint c4 b1 b2\n",
      "18) place_clamp_at_joint c4 b1 b3\n",
      "19) pick_tool_from_rack g2\n",
      "20) pick_element_from_rack b3 g2\n",
      "21) place_element_on_structure b3 @traj3 g2\n",
      "22) pick_element_from_rack b5 g2\n",
      "23) place_element_on_structure b5 @traj4 g2\n",
      "24) place_tool_at_rack g2\n",
      "25) pick_tool_from_rack c1\n",
      "26) place_clamp_at_joint c1 b0 b6\n",
      "27) pick_tool_from_rack c2\n",
      "28) place_clamp_at_joint c2 b5 b6\n",
      "29) pick_tool_from_rack g1\n",
      "30) pick_element_from_rack b6 g1\n",
      "31) place_element_on_structure b6 @traj5 g1\n",
      "32) place_tool_at_rack g1\n",
      "33) pick_tool_from_rack g2\n",
      "34) pick_element_from_rack b7 g2\n",
      "35) place_element_on_structure b7 @traj6 g2\n",
      "36) place_tool_at_rack g2\n",
      "37) pick_clamp_from_joint c1 b0 b6\n",
      "38) place_clamp_at_joint c1 b1 b8\n",
      "39) pick_clamp_from_joint c2 b5 b6\n",
      "40) place_clamp_at_joint c2 b7 b8\n",
      "41) pick_tool_from_rack g1\n",
      "42) pick_element_from_rack b8 g1\n",
      "43) place_element_on_structure b8 @traj7 g1\n",
      "44) place_tool_at_rack g1\n",
      "45) pick_clamp_from_joint c1 b1 b8\n",
      "46) place_clamp_at_joint c1 b5 b4\n",
      "47) pick_clamp_from_joint c2 b7 b8\n",
      "48) place_clamp_at_joint c2 b7 b4\n",
      "49) pick_tool_from_rack g2\n",
      "50) pick_element_from_rack b4 g2\n",
      "51) place_element_on_structure b4 @traj8 g2\n",
      "\u001b[32mPlanning succeeds\u001b[0m\n"
     ]
    }
   ],
   "source": [
    "from pddlstream.algorithms.incremental import solve_incremental\n",
    "from pddlstream.algorithms.incremental import solve_incremental\n",
    "from pddlstream.language.constants import print_plan, is_plan\n",
    "from pddlstream.algorithms.meta import solve\n",
    "\n",
    "# solution = solve_incremental(input_problem, constraints=constraints,\n",
    "#                   unit_costs=1, success_cost=INF,\n",
    "#                   max_iterations=INF, max_time=INF, max_memory=INF,\n",
    "#                   initial_complexity=0, complexity_step=1, max_complexity=INF,\n",
    "#                   verbose=False)\n",
    "solution = solve(input_problem, algorithm='incremental',\n",
    "                 max_time=60,\n",
    "                 unit_costs=True,\n",
    "                 max_planner_time=300,\n",
    "                 debug=0, verbose=0) #, planner=discrete_planner)\n",
    "\n",
    "plan, cost, evaluations = solution\n",
    "plan_success = is_plan(plan)\n",
    "\n",
    "print('-'*10)\n",
    "print_plan(plan)\n",
    "cprint('Planning {}'.format('succeeds' if plan_success else 'fails'), 'green' if plan_success else 'red')"
   ]
  },
  {
   "cell_type": "code",
   "execution_count": 86,
   "id": "aa21d86e-64d2-4e1d-a001-055d715dbcb2",
   "metadata": {},
   "outputs": [
    {
     "data": {
      "text/plain": [
       "pddlstream.language.constants.Action"
      ]
     },
     "execution_count": 86,
     "metadata": {},
     "output_type": "execute_result"
    }
   ],
   "source": [
    "ac = solution.plan[0]\n",
    "type(ac)"
   ]
  },
  {
   "cell_type": "code",
   "execution_count": 66,
   "id": "ff7c710b-292d-42c1-b24b-dec28ef5e6d9",
   "metadata": {},
   "outputs": [],
   "source": [
    "from pddlstream.algorithms.downward import get_problem, task_from_domain_problem\n",
    "from pddlstream.algorithms.algorithm import parse_problem\n",
    "from pddlstream.algorithms.instantiate_task import sas_from_pddl, instantiate_task, convert_instantiated\n",
    "from pddlstream.algorithms.incremental import process_stream_queue\n",
    "from pddlstream.language.attachments import compile_fluents_as_attachments\n",
    "from pddlstream.algorithms.instantiation import Instantiator\n",
    "from pddlstream.algorithms.common import SolutionStore\n",
    "from pddlstream.utils import INF, Verbose, str_from_object, elapsed_time\n",
    "\n",
    "evaluations, goal_expression, domain, externals = parse_problem(\n",
    "    input_problem, constraints=constraints, unit_costs=unit_costs)\n",
    "\n",
    "static_externals = compile_fluents_as_attachments(domain, externals)\n",
    "instantiator = Instantiator(static_externals, evaluations)\n",
    "\n",
    "store = SolutionStore(evaluations, INF, INF, 0, max_memory=INF) # TODO: include other info here?\n",
    "process_stream_queue(instantiator, store, 0, verbose=0)\n",
    "\n",
    "########################\n",
    "\n",
    "problem = get_problem(evaluations, goal_expression, domain, unit_costs)\n",
    "task = task_from_domain_problem(domain, problem)\n",
    "\n",
    "with Verbose(0):\n",
    "    instantiated = instantiate_task(task)\n",
    "    instantiated = convert_instantiated(instantiated)"
   ]
  },
  {
   "cell_type": "code",
   "execution_count": 87,
   "id": "0e545ee8-305a-4511-8a86-890d23101598",
   "metadata": {},
   "outputs": [
    {
     "data": {
      "text/plain": [
       "'pick_element_from_rack'"
      ]
     },
     "execution_count": 87,
     "metadata": {},
     "output_type": "execute_result"
    }
   ],
   "source": [
    "instantiated.actions[0].action.name"
   ]
  },
  {
   "cell_type": "code",
   "execution_count": 111,
   "id": "ef11321d-60ee-4f1c-a356-edb36bb8099e",
   "metadata": {},
   "outputs": [
    {
     "data": {
      "text/plain": [
       "['b0', 'g2']"
      ]
     },
     "execution_count": 111,
     "metadata": {},
     "output_type": "execute_result"
    }
   ],
   "source": [
    "# 'b0' in \n",
    "[obj_from_pddl(v).value for v in instantiated.actions[0].var_mapping.values()]"
   ]
  },
  {
   "cell_type": "code",
   "execution_count": 115,
   "id": "25714515-86c2-4567-8e77-5de71f004499",
   "metadata": {},
   "outputs": [
    {
     "data": {
      "text/plain": [
       "'c2'"
      ]
     },
     "execution_count": 115,
     "metadata": {},
     "output_type": "execute_result"
    }
   ],
   "source": [
    "obj_from_pddl('v11').value"
   ]
  },
  {
   "cell_type": "code",
   "execution_count": 169,
   "id": "26966146-bc48-41a5-93b0-89f1fbda985d",
   "metadata": {},
   "outputs": [],
   "source": [
    "from pddlstream.language.conversion import pddl_from_object, obj_from_pddl\n",
    "\n",
    "def add_applied_effects(action):\n",
    "    action.applied_effects = []\n",
    "    for effects in [action.add_effects, action.del_effects]:\n",
    "        negate = (effects is action.del_effects)\n",
    "        for i, (conditions, effect) in reversed(list(enumerate(effects))):\n",
    "            if all(literal_holds(state, literal) or (literal in axiom_from_atom) for literal in conditions):\n",
    "                action.precondition.extend(conditions)\n",
    "                effects[i] = ([], effect)\n",
    "                action.applied_effects.append(effect.negate() if negate else effect)\n",
    "            else:\n",
    "                effects.pop(i)\n",
    "    return action\n",
    "\n",
    "applied_iac = []\n",
    "for iac in instantiated.actions:\n",
    "    if iac.action.name == ac.name and all(arg in [obj_from_pddl(v).value for v in iac.var_mapping.values()] for arg in ac.args):\n",
    "        # print('Found')\n",
    "        # iac.dump()\n",
    "        # print(ac)\n",
    "        # print('===')\n",
    "        iac = add_applied_effects(iac)\n",
    "        applied_iac.append(iac)\n",
    "        break"
   ]
  },
  {
   "cell_type": "code",
   "execution_count": 170,
   "id": "da67eb08-21c3-4c43-b56a-82174547292c",
   "metadata": {},
   "outputs": [
    {
     "data": {
      "text/plain": [
       "[<Atom canfreemove()>,\n",
       " <Atom robotgripperempty()>,\n",
       " <Atom attached(v15)>,\n",
       " <NegatedAtom atrack(v15)>,\n",
       " <NegatedAtom robottoolchangerempty()>]"
      ]
     },
     "execution_count": 170,
     "metadata": {},
     "output_type": "execute_result"
    }
   ],
   "source": [
    "applied_iac[0].applied_effects"
   ]
  },
  {
   "cell_type": "code",
   "execution_count": 163,
   "id": "70cb7666-b5a9-4a50-94a8-7cf341b50d25",
   "metadata": {},
   "outputs": [],
   "source": [
    "initial_state = set(instantiated.atoms)"
   ]
  },
  {
   "cell_type": "code",
   "execution_count": 164,
   "id": "957457cc-83ad-46cd-a956-c3da9ddd8419",
   "metadata": {},
   "outputs": [
    {
     "data": {
      "text/plain": [
       "{<Atom atrack(v15)>, <Atom robottoolchangerempty()>}"
      ]
     },
     "execution_count": 164,
     "metadata": {},
     "output_type": "execute_result"
    }
   ],
   "source": [
    "set(eff[1] for eff in applied_iac[0].del_effects)"
   ]
  },
  {
   "cell_type": "code",
   "execution_count": 165,
   "id": "e705573b-1cb4-4e2a-be70-5877c629b1a0",
   "metadata": {},
   "outputs": [],
   "source": [
    "state = initial_state | set(eff[1] for eff in applied_iac[0].add_effects)"
   ]
  },
  {
   "cell_type": "code",
   "execution_count": 166,
   "id": "52c4ea4b-8254-4d25-b4d8-b271ba033b4f",
   "metadata": {},
   "outputs": [],
   "source": [
    "state -= set(eff[1] for eff in applied_iac[0].del_effects)"
   ]
  },
  {
   "cell_type": "code",
   "execution_count": 172,
   "id": "dedc91c3-940f-46fc-87b1-7b527bdac4cb",
   "metadata": {},
   "outputs": [
    {
     "data": {
      "text/plain": [
       "[<PropositionalAction '(pick_tool_from_rack v15)' at 0x1b5da346a88>,\n",
       " <PropositionalAction '@goal' at 0x1b5da346b08>]"
      ]
     },
     "execution_count": 172,
     "metadata": {},
     "output_type": "execute_result"
    }
   ],
   "source": [
    "import pddl\n",
    "from pddlstream.algorithms.scheduling.reinstantiate import reinstantiate_action, reinstantiate_action_instances \n",
    "\n",
    "reinstantiate_action_instances(task, applied_iac)\n",
    "# new_instance = reinstantiate_action(init_state, ac)\n",
    "# pddl_ac = pddl.PropositionalAction(instance.name, precondition, new_effects, instance.cost, action, var_mapping)"
   ]
  },
  {
   "cell_type": "code",
   "execution_count": 174,
   "id": "9df5a4e2-e287-4c1f-949e-b450433f7eeb",
   "metadata": {},
   "outputs": [
    {
     "data": {
      "text/plain": [
       "Action(name='pick_element_from_rack', args=('b0', 'g2'))"
      ]
     },
     "execution_count": 174,
     "metadata": {},
     "output_type": "execute_result"
    }
   ],
   "source": [
    "solution.plan[1]"
   ]
  },
  {
   "cell_type": "code",
   "execution_count": 175,
   "id": "da5a9e0f-fd71-4252-a020-8ce3f04c0a83",
   "metadata": {},
   "outputs": [
    {
     "ename": "IndexError",
     "evalue": "index out of range",
     "output_type": "error",
     "traceback": [
      "\u001b[1;31m---------------------------------------------------------------------------\u001b[0m",
      "\u001b[1;31mIndexError\u001b[0m                                Traceback (most recent call last)",
      "\u001b[1;32m~\\AppData\\Local\\Temp/ipykernel_42756/210784620.py\u001b[0m in \u001b[0;36m<module>\u001b[1;34m\u001b[0m\n\u001b[1;32m----> 1\u001b[1;33m \u001b[0minstance\u001b[0m \u001b[1;33m=\u001b[0m \u001b[0minstantiator\u001b[0m\u001b[1;33m.\u001b[0m\u001b[0mpop_stream\u001b[0m\u001b[1;33m(\u001b[0m\u001b[1;33m)\u001b[0m\u001b[1;33m\u001b[0m\u001b[1;33m\u001b[0m\u001b[0m\n\u001b[0m",
      "\u001b[1;32m~\\Documents\\code_ws\\pb_ws\\coop_assembly\\external\\pddlstream\\pddlstream\\algorithms\\instantiation.py\u001b[0m in \u001b[0;36mpop_stream\u001b[1;34m(self)\u001b[0m\n\u001b[0;32m     74\u001b[0m \u001b[1;33m\u001b[0m\u001b[0m\n\u001b[0;32m     75\u001b[0m     \u001b[1;32mdef\u001b[0m \u001b[0mpop_stream\u001b[0m\u001b[1;33m(\u001b[0m\u001b[0mself\u001b[0m\u001b[1;33m)\u001b[0m\u001b[1;33m:\u001b[0m\u001b[1;33m\u001b[0m\u001b[1;33m\u001b[0m\u001b[0m\n\u001b[1;32m---> 76\u001b[1;33m         \u001b[0mpriority\u001b[0m\u001b[1;33m,\u001b[0m \u001b[0minstance\u001b[0m \u001b[1;33m=\u001b[0m \u001b[0mheappop\u001b[0m\u001b[1;33m(\u001b[0m\u001b[0mself\u001b[0m\u001b[1;33m.\u001b[0m\u001b[0mqueue\u001b[0m\u001b[1;33m)\u001b[0m\u001b[1;33m\u001b[0m\u001b[1;33m\u001b[0m\u001b[0m\n\u001b[0m\u001b[0;32m     77\u001b[0m         \u001b[1;32mreturn\u001b[0m \u001b[0minstance\u001b[0m\u001b[1;33m\u001b[0m\u001b[1;33m\u001b[0m\u001b[0m\n\u001b[0;32m     78\u001b[0m \u001b[1;33m\u001b[0m\u001b[0m\n",
      "\u001b[1;31mIndexError\u001b[0m: index out of range"
     ]
    }
   ],
   "source": [
    "instance = instantiator.pop_stream()"
   ]
  },
  {
   "cell_type": "markdown",
   "id": "fa62c448-2dac-4a67-884b-4ad1666c2ca6",
   "metadata": {},
   "source": [
    "## Debug types"
   ]
  },
  {
   "cell_type": "code",
   "execution_count": 50,
   "id": "df14384a-630a-4a6b-9803-e0b51bd05439",
   "metadata": {},
   "outputs": [
    {
     "data": {
      "text/plain": [
       "b0"
      ]
     },
     "execution_count": 50,
     "metadata": {},
     "output_type": "execute_result"
    }
   ],
   "source": [
    "from pddlstream.language.conversion import is_atom, is_negated_atom, objects_from_evaluations, pddl_from_object, \\\n",
    "    pddl_list_from_expression, obj_from_pddl\n",
    "\n",
    "# pddl_from_object()\n",
    "obj_from_pddl('v1')"
   ]
  }
 ],
 "metadata": {
  "kernelspec": {
   "display_name": "Python 3 (ipykernel)",
   "language": "python",
   "name": "python3"
  },
  "language_info": {
   "codemirror_mode": {
    "name": "ipython",
    "version": 3
   },
   "file_extension": ".py",
   "mimetype": "text/x-python",
   "name": "python",
   "nbconvert_exporter": "python",
   "pygments_lexer": "ipython3",
   "version": "3.7.9"
  }
 },
 "nbformat": 4,
 "nbformat_minor": 5
}
